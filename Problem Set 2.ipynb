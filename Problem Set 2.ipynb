{
 "cells": [
  {
   "cell_type": "markdown",
   "id": "74b40c4e",
   "metadata": {},
   "source": [
    "Question9"
   ]
  },
  {
   "cell_type": "code",
   "execution_count": 1,
   "id": "a78d6046",
   "metadata": {},
   "outputs": [
    {
     "name": "stdout",
     "output_type": "stream",
     "text": [
      "['THE', 'QUICK', 'BROWN', 'FOX', 'JUMPS', 'OVER', 'THE', 'LAZY', 'DOG']\n"
     ]
    }
   ],
   "source": [
    "words= ['The','quick','brown','fox','jumps','over','the','lazy','dog'] \n",
    "list1 = [Key.upper() for Key in words] \n",
    "print(list1)"
   ]
  },
  {
   "cell_type": "code",
   "execution_count": 2,
   "id": "ff2e2788",
   "metadata": {},
   "outputs": [
    {
     "name": "stdout",
     "output_type": "stream",
     "text": [
      "['the', 'quick', 'brown', 'fox', 'jumps', 'over', 'the', 'lazy', 'dog']\n"
     ]
    }
   ],
   "source": [
    "list2=[Key.lower() for Key in words] \n",
    "print(list2)"
   ]
  },
  {
   "cell_type": "code",
   "execution_count": 3,
   "id": "4d52f399",
   "metadata": {},
   "outputs": [
    {
     "name": "stdout",
     "output_type": "stream",
     "text": [
      "[3, 5, 5, 3, 5, 4, 3, 4, 3]\n"
     ]
    }
   ],
   "source": [
    "words= ['The','quick','brown','fox','jumps','over','the','lazy','dog'] \n",
    "list3=[len(Key) for Key in words]\n",
    "print(list3)"
   ]
  },
  {
   "cell_type": "code",
   "execution_count": 4,
   "id": "bbb836fc",
   "metadata": {},
   "outputs": [
    {
     "name": "stdout",
     "output_type": "stream",
     "text": [
      "[('THE', 'the', 3), ('QUICK', 'quick', 5), ('BROWN', 'brown', 5), ('FOX', 'fox', 3), ('JUMPS', 'jumps', 5), ('OVER', 'over', 4), ('THE', 'the', 3), ('LAZY', 'lazy', 4), ('DOG', 'dog', 3)]\n"
     ]
    }
   ],
   "source": [
    "list4=[(Key.upper(),Key.lower(),len(Key)) for Key in words]\n",
    "print(list4)"
   ]
  },
  {
   "cell_type": "code",
   "execution_count": 5,
   "id": "ad6d4d7b",
   "metadata": {},
   "outputs": [
    {
     "name": "stdout",
     "output_type": "stream",
     "text": [
      "['quick', 'brown', 'jumps', 'over', 'lazy']\n"
     ]
    }
   ],
   "source": [
    "list5=[Key for Key in words if len(Key)>=4]\n",
    "print(list5)"
   ]
  },
  {
   "cell_type": "markdown",
   "id": "a822fec6",
   "metadata": {},
   "source": [
    "Question8"
   ]
  },
  {
   "cell_type": "code",
   "execution_count": 16,
   "id": "7dddac7a",
   "metadata": {},
   "outputs": [
    {
     "data": {
      "text/plain": [
       "<sqlite3.Cursor at 0x18babd65c00>"
      ]
     },
     "execution_count": 16,
     "metadata": {},
     "output_type": "execute_result"
    }
   ],
   "source": [
    "import sqlite3\n",
    "con = sqlite3.connect('Weather.db')\n",
    "cur = con.cursor()\n",
    "cur.execute(\"CREATE TABLE WEATHER (City text,Country text,Season text ,Temperature float,Rainfall float)\")\n",
    "cur.execute(\"INSERT INTO WEATHER VALUES ('Mumbai','India','Winter',24.8,5.9)\")\n",
    "cur.execute(\"INSERT INTO WEATHER VALUES ('Mumbai','India','Spring',28.4,16.2)\")\n",
    "cur.execute(\"INSERT INTO WEATHER VALUES ('Mumbai','India','Summer',27.9,1549.4)\")\n",
    "cur.execute(\"INSERT INTO WEATHER VALUES ('Mumbai','India','Fall',27.6,346.0)\")\n",
    "cur.execute(\"INSERT INTO WEATHER VALUES ('London','United Kingdom','Winter',4.2,207.7)\")\n",
    "cur.execute(\"INSERT INTO WEATHER VALUES ('London','United Kingdom','Spring',8.3,169.6)\")\n",
    "cur.execute(\"INSERT INTO WEATHER VALUES ('London','United Kingdom','Summer',15.7,157.0)\")\n",
    "cur.execute(\"INSERT INTO WEATHER VALUES ('London','United Kingdom','Fall',10.4,218.5)\")\n",
    "cur.execute(\"INSERT INTO WEATHER VALUES ('Cairo','Egypt','Winter',13.6,16.5)\")\n",
    "cur.execute(\"INSERT INTO WEATHER VALUES ('Cairo','Egypt','Spring',20.7,6.5)\")\n",
    "cur.execute(\"INSERT INTO WEATHER VALUES ('Cairo','Egypt','Summer',27.7,0.1)\")\n",
    "cur.execute(\"INSERT INTO WEATHER VALUES ('Cairo','Egypt','Fall',22.2,4.5)\")"
   ]
  },
  {
   "cell_type": "code",
   "execution_count": 17,
   "id": "f5ca31e2",
   "metadata": {},
   "outputs": [
    {
     "name": "stdout",
     "output_type": "stream",
     "text": [
      "[(24.8,), (28.4,), (27.9,), (27.6,), (4.2,), (8.3,), (15.7,), (10.4,), (13.6,), (20.7,), (27.7,), (22.2,)]\n"
     ]
    }
   ],
   "source": [
    "cur.execute(\"SELECT Temperature FROM Weather\")\n",
    "print(cur.fetchall())"
   ]
  },
  {
   "cell_type": "code",
   "execution_count": 18,
   "id": "a43925fa",
   "metadata": {},
   "outputs": [
    {
     "name": "stdout",
     "output_type": "stream",
     "text": [
      "[('Mumbai',), ('London',), ('Cairo',)]\n"
     ]
    }
   ],
   "source": [
    "cur.execute(\"SELECT DISTINCT City FROM Weather\")\n",
    "print(cur.fetchall())"
   ]
  },
  {
   "cell_type": "code",
   "execution_count": 19,
   "id": "3a1995c3",
   "metadata": {},
   "outputs": [
    {
     "name": "stdout",
     "output_type": "stream",
     "text": [
      "[('Mumbai', 'India', 'Winter', 24.8, 5.9), ('Mumbai', 'India', 'Spring', 28.4, 16.2), ('Mumbai', 'India', 'Summer', 27.9, 1549.4), ('Mumbai', 'India', 'Fall', 27.6, 346.0)]\n"
     ]
    }
   ],
   "source": [
    "cur.execute('SELECT * FROM Weather WHERE Country = ?', ('India',))\n",
    "print(cur.fetchall())"
   ]
  },
  {
   "cell_type": "code",
   "execution_count": 20,
   "id": "74d53a71",
   "metadata": {},
   "outputs": [
    {
     "name": "stdout",
     "output_type": "stream",
     "text": [
      "[('Mumbai', 'India', 'Fall', 27.6, 346.0), ('London', 'United Kingdom', 'Fall', 10.4, 218.5), ('Cairo', 'Egypt', 'Fall', 22.2, 4.5)]\n"
     ]
    }
   ],
   "source": [
    "cur.execute('SELECT * FROM Weather WHERE Season = ?', ('Fall',))\n",
    "print(cur.fetchall())"
   ]
  },
  {
   "cell_type": "code",
   "execution_count": 21,
   "id": "a3e77eab",
   "metadata": {},
   "outputs": [
    {
     "name": "stdout",
     "output_type": "stream",
     "text": [
      "[('Mumbai', 'India', 'Fall'), ('London', 'United Kingdom', 'Winter'), ('London', 'United Kingdom', 'Fall')]\n"
     ]
    }
   ],
   "source": [
    "cur.execute('SELECT City, Country, Season FROM Weather WHERE Rainfall BETWEEN ? AND ?', (200,400))\n",
    "print(cur.fetchall())"
   ]
  },
  {
   "cell_type": "code",
   "execution_count": 22,
   "id": "0ef4db07",
   "metadata": {},
   "outputs": [
    {
     "name": "stdout",
     "output_type": "stream",
     "text": [
      "[('Cairo', 'Egypt'), ('Mumbai', 'India')]\n"
     ]
    }
   ],
   "source": [
    "cur.execute('SELECT City, Country FROM Weather WHERE season = ? AND Temperature > ? ORDER BY Temperature', ('Fall',20))\n",
    "print(cur.fetchall())"
   ]
  },
  {
   "cell_type": "code",
   "execution_count": 23,
   "id": "97fcfe51",
   "metadata": {},
   "outputs": [
    {
     "name": "stdout",
     "output_type": "stream",
     "text": [
      "[('Cairo', 27.6)]\n"
     ]
    }
   ],
   "source": [
    "cur.execute('SELECT City, SUM(Rainfall) FROM Weather WHERE City = ? GROUP BY City', ('Cairo',))\n",
    "print(cur.fetchall())"
   ]
  },
  {
   "cell_type": "code",
   "execution_count": 25,
   "id": "48cf5fdf",
   "metadata": {},
   "outputs": [
    {
     "name": "stdout",
     "output_type": "stream",
     "text": [
      "[('Fall', 569.0), ('Spring', 192.29999999999998), ('Summer', 1706.5), ('Winter', 230.1)]\n"
     ]
    }
   ],
   "source": [
    "cur.execute('SELECT Season, Sum(Rainfall) AS Total_Rainfall FROM Weather GROUP BY Season')\n",
    "print(cur.fetchall())"
   ]
  },
  {
   "cell_type": "markdown",
   "id": "5548b96a",
   "metadata": {},
   "source": [
    "Question 5"
   ]
  },
  {
   "cell_type": "code",
   "execution_count": 26,
   "id": "95d5aa45",
   "metadata": {},
   "outputs": [],
   "source": [
    "def binary(n):\n",
    "   if n > 1:\n",
    "       binary(n//2)\n",
    "   print(n % 2,end = '')"
   ]
  },
  {
   "cell_type": "code",
   "execution_count": 27,
   "id": "8a9778a6",
   "metadata": {},
   "outputs": [
    {
     "name": "stdout",
     "output_type": "stream",
     "text": [
      "1010"
     ]
    }
   ],
   "source": [
    "binary(10)"
   ]
  },
  {
   "cell_type": "code",
   "execution_count": 28,
   "id": "75accaab",
   "metadata": {},
   "outputs": [
    {
     "name": "stdout",
     "output_type": "stream",
     "text": [
      "0"
     ]
    }
   ],
   "source": [
    "binary(0)"
   ]
  },
  {
   "cell_type": "code",
   "execution_count": 29,
   "id": "71c81dac",
   "metadata": {},
   "outputs": [
    {
     "name": "stdout",
     "output_type": "stream",
     "text": [
      "1"
     ]
    }
   ],
   "source": [
    "binary(1)"
   ]
  },
  {
   "cell_type": "code",
   "execution_count": 30,
   "id": "304922b2",
   "metadata": {},
   "outputs": [
    {
     "name": "stdout",
     "output_type": "stream",
     "text": [
      "11"
     ]
    }
   ],
   "source": [
    "binary(3)"
   ]
  },
  {
   "cell_type": "code",
   "execution_count": 31,
   "id": "696dcaf6",
   "metadata": {},
   "outputs": [
    {
     "name": "stdout",
     "output_type": "stream",
     "text": [
      "1001"
     ]
    }
   ],
   "source": [
    "binary(9)"
   ]
  },
  {
   "cell_type": "markdown",
   "id": "1ebc6b27",
   "metadata": {},
   "source": [
    "Question 4"
   ]
  },
  {
   "cell_type": "code",
   "execution_count": 32,
   "id": "1a6270f1",
   "metadata": {},
   "outputs": [
    {
     "name": "stdout",
     "output_type": "stream",
     "text": [
      "Give me a number: 10\n",
      "5\n",
      "16\n",
      "8\n",
      "4\n",
      "2\n",
      "1\n"
     ]
    }
   ],
   "source": [
    "def collatz(number):\n",
    "\n",
    "    if number % 2 == 0:\n",
    "        print(number // 2)\n",
    "        return number // 2\n",
    "\n",
    "    elif number % 2 == 1:\n",
    "        result = 3 * number + 1\n",
    "        print(result)\n",
    "        return result\n",
    "\n",
    "n = input(\"Give me a number: \")\n",
    "while n != 1:\n",
    "\n",
    "    n = collatz(int(n))"
   ]
  },
  {
   "cell_type": "markdown",
   "id": "cc68e861",
   "metadata": {},
   "source": [
    "Question 3"
   ]
  },
  {
   "cell_type": "code",
   "execution_count": 39,
   "id": "75fba7cc",
   "metadata": {},
   "outputs": [],
   "source": [
    "class marsupial(object):\n",
    "\tdef __init__(self):\n",
    "\t\tself.list = ['id':1, 'name': Mani]\n",
    "\tdef put_in_puch(self,item):\n",
    "\t\tself.list.append(item)\n",
    "\tdef put_contents(self):\n",
    "\t\treturn self.list\n",
    "\n",
    "class Kangaroo(marsupial):\n",
    "\tdef __init__(self,x,y):\n",
    "\t\tself.x = x\n",
    "\t\tself.y=y\n",
    "\tdef jump(self,dx,dy):\n",
    "\t\tself.x += dx\n",
    "\t\tself.y+=dy\n",
    "\tdef __str__(self):\n",
    "\t\treturn ('I am a Kangaroo at coordinates ({},{})'.format(self.x,self.y))"
   ]
  },
  {
   "cell_type": "code",
   "execution_count": 44,
   "id": "2a68cf0b",
   "metadata": {},
   "outputs": [],
   "source": [
    "m=marsupial()"
   ]
  },
  {
   "cell_type": "code",
   "execution_count": 45,
   "id": "19b13f38",
   "metadata": {},
   "outputs": [],
   "source": [
    "m.put_in_puch('doll')"
   ]
  },
  {
   "cell_type": "code",
   "execution_count": 46,
   "id": "31aeddc7",
   "metadata": {},
   "outputs": [],
   "source": [
    "m.put_in_puch('firetruck')"
   ]
  },
  {
   "cell_type": "code",
   "execution_count": 47,
   "id": "ca4a14de",
   "metadata": {},
   "outputs": [],
   "source": [
    "m.put_in_puch('kitten')"
   ]
  },
  {
   "cell_type": "code",
   "execution_count": 49,
   "id": "6df8b56b",
   "metadata": {},
   "outputs": [
    {
     "data": {
      "text/plain": [
       "['doll', 'firetruck', 'kitten']"
      ]
     },
     "execution_count": 49,
     "metadata": {},
     "output_type": "execute_result"
    }
   ],
   "source": [
    "m.put_contents()"
   ]
  },
  {
   "cell_type": "code",
   "execution_count": 51,
   "id": "21b6d573",
   "metadata": {},
   "outputs": [],
   "source": [
    "k=Kangaroo(0,0)"
   ]
  },
  {
   "cell_type": "code",
   "execution_count": 52,
   "id": "069de6c5",
   "metadata": {},
   "outputs": [
    {
     "name": "stdout",
     "output_type": "stream",
     "text": [
      "I am a Kangaroo at coordinates (0,0)\n"
     ]
    }
   ],
   "source": [
    "print(k)"
   ]
  },
  {
   "cell_type": "code",
   "execution_count": 60,
   "id": "7df3eb14",
   "metadata": {},
   "outputs": [],
   "source": [
    "k.jump(1,0)"
   ]
  },
  {
   "cell_type": "code",
   "execution_count": 61,
   "id": "9f0ae143",
   "metadata": {},
   "outputs": [],
   "source": [
    "k.jump(1,0)"
   ]
  },
  {
   "cell_type": "code",
   "execution_count": 62,
   "id": "8dc1bc63",
   "metadata": {},
   "outputs": [],
   "source": [
    "k.jump(1,0)"
   ]
  },
  {
   "cell_type": "code",
   "execution_count": 63,
   "id": "3dcdd846",
   "metadata": {},
   "outputs": [
    {
     "name": "stdout",
     "output_type": "stream",
     "text": [
      "I am a Kangaroo at coordinates (3,0)\n"
     ]
    }
   ],
   "source": [
    "print(k)"
   ]
  },
  {
   "cell_type": "markdown",
   "id": "df423d93",
   "metadata": {},
   "source": [
    "Question 6"
   ]
  },
  {
   "cell_type": "code",
   "execution_count": 79,
   "id": "53bb05a9",
   "metadata": {},
   "outputs": [],
   "source": [
    "from html.parser import HTMLParser\n",
    "class HeadingParser(HTMLParser): \n",
    "    \n",
    "    def __init__(self):\n",
    "        HTMLParser.__init__(self)\n",
    "        self.header = ''\n",
    "    \n",
    "    def handle_starttag(self, tag, attrs):\n",
    "        if tag in ['h1','h2','h3','h4','h5']:\n",
    "            self.header = tag\n",
    "            #print(self.headerTag) \n",
    "    \n",
    "    def handle_data(self, attrs):\n",
    "        if self.header in ['h1','h2','h3','h4','h5']:\n",
    "            self.header = list(self.header)\n",
    "            indent = (int(self.header[1])-1) * ' ' \n",
    "            print(indent + attrs)"
   ]
  },
  {
   "cell_type": "code",
   "execution_count": 80,
   "id": "59837a41",
   "metadata": {},
   "outputs": [
    {
     "name": "stdout",
     "output_type": "stream",
     "text": [
      "W3C Mission\n",
      " Principles\n"
     ]
    }
   ],
   "source": [
    "infile = open('w3c.html')\n",
    "content = infile.read()\n",
    "infile.close()\n",
    "hp = HeadingParser()\n",
    "hp.feed(content)"
   ]
  },
  {
   "cell_type": "markdown",
   "id": "8982df8a",
   "metadata": {},
   "source": [
    "Question 1"
   ]
  },
  {
   "cell_type": "code",
   "execution_count": 1,
   "id": "e3901f07",
   "metadata": {},
   "outputs": [
    {
     "data": {
      "text/plain": [
       "6"
      ]
     },
     "execution_count": 1,
     "metadata": {},
     "output_type": "execute_result"
    }
   ],
   "source": [
    "\n",
    "a = 0\n",
    "\n",
    "def b():\n",
    "    global a\n",
    "    a = c(a)\n",
    "    \n",
    "def c(a):\n",
    "    return a + 2\n",
    "b()\n",
    "b()\n",
    "b()\n",
    "a\n"
   ]
  },
  {
   "cell_type": "markdown",
   "id": "3e67a428",
   "metadata": {},
   "source": [
    "b()\n",
    "initial value of a = 0\n",
    "after executing function c which adds value of(a=0+2)\n",
    "2\n",
    "  \n",
    "b()\n",
    "value of a = 2\n",
    "after executing function c which adds value of(a=0+4)\n",
    "4\n",
    "\n",
    "b()\n",
    "value of a = 4\n",
    "after executing function c which adds value of(a=0+6)\n",
    "6\n",
    "\n",
    "a=6"
   ]
  },
  {
   "cell_type": "markdown",
   "id": "da898ca5",
   "metadata": {},
   "source": [
    "Quetion2"
   ]
  },
  {
   "cell_type": "code",
   "execution_count": 8,
   "id": "646d314c",
   "metadata": {},
   "outputs": [],
   "source": [
    "def fileLength(file_name):\n",
    "    try:\n",
    "        file = open(file_name)\n",
    "        contents = file.read()\n",
    "        file.close()\n",
    "        print(len(contents))\n",
    "    except:\n",
    "        print(\"File \" + file_name+\" not found\")"
   ]
  },
  {
   "cell_type": "code",
   "execution_count": 9,
   "id": "718a9838",
   "metadata": {},
   "outputs": [
    {
     "name": "stdout",
     "output_type": "stream",
     "text": [
      "123\n"
     ]
    }
   ],
   "source": [
    "fileLength(\"Filelength.txt\")"
   ]
  },
  {
   "cell_type": "code",
   "execution_count": 10,
   "id": "9e5ebef8",
   "metadata": {},
   "outputs": [
    {
     "name": "stdout",
     "output_type": "stream",
     "text": [
      "File midterm.py not found\n"
     ]
    }
   ],
   "source": [
    "fileLength(\"midterm.py\")"
   ]
  },
  {
   "cell_type": "markdown",
   "id": "6cd65686",
   "metadata": {},
   "source": [
    "Quetion7"
   ]
  },
  {
   "cell_type": "code",
   "execution_count": 12,
   "id": "7f0bbe45",
   "metadata": {},
   "outputs": [],
   "source": [
    "from html.parser import HTMLParser    \n",
    "from urllib.request import urlopen\n",
    "from urllib.parse import urljoin\n",
    "\n",
    "class urlcollector(HTMLParser):\n",
    "    \n",
    "\n",
    "    def __init__(self, url):\n",
    "      \n",
    "        HTMLParser.__init__(self)\n",
    "        self.url = url\n",
    "        self.url_links = []\n",
    "\n",
    "\n",
    "    def append(self):\n",
    "        \n",
    "        return self.url_links\n",
    "\n",
    "\n",
    "    def handle_starttag(self, url_tag, attributes):\n",
    "        for a in attributes:\n",
    "            ab = urljoin(self.url, a[1])\n",
    "            if ab[:4] == 'http': \n",
    "                self.url_links.append(ab)\n",
    "                i = 0\n",
    "def webdir(url, depth, i):\n",
    "   \n",
    "\n",
    "    depth = depth - 1    \n",
    "    print(i*'  ', url)         \n",
    "\n",
    "    objective = urlopen(url).read().decode()\n",
    "    collection = urlcollector(url)\n",
    "    collection.feed(objective)\n",
    "    urls = collection.append() \n",
    " \n",
    "    url_links = urls\n",
    "    i= i + 4\n",
    "\n",
    "\n",
    "    for link in url_links:\n",
    "        if depth < 0 or i < 0:\n",
    "            return 1\n",
    "        else:\n",
    "            webdir(link, depth, i)"
   ]
  },
  {
   "cell_type": "code",
   "execution_count": 13,
   "id": "4287f2f7",
   "metadata": {},
   "outputs": [
    {
     "name": "stdout",
     "output_type": "stream",
     "text": [
      " http://reed.cs.depaul.edu/lperkovic/test1.html\n",
      "         http://reed.cs.depaul.edu/lperkovic/test2.html\n",
      "                 http://reed.cs.depaul.edu/lperkovic/test4.html\n",
      "         http://reed.cs.depaul.edu/lperkovic/test3.html\n",
      "                 http://reed.cs.depaul.edu/lperkovic/test4.html\n"
     ]
    }
   ],
   "source": [
    "webdir('http://reed.cs.depaul.edu/lperkovic/test1.html', 2, 0)"
   ]
  },
  {
   "cell_type": "code",
   "execution_count": null,
   "id": "3a2afe12",
   "metadata": {},
   "outputs": [],
   "source": []
  }
 ],
 "metadata": {
  "kernelspec": {
   "display_name": "Python 3 (ipykernel)",
   "language": "python",
   "name": "python3"
  },
  "language_info": {
   "codemirror_mode": {
    "name": "ipython",
    "version": 3
   },
   "file_extension": ".py",
   "mimetype": "text/x-python",
   "name": "python",
   "nbconvert_exporter": "python",
   "pygments_lexer": "ipython3",
   "version": "3.9.12"
  }
 },
 "nbformat": 4,
 "nbformat_minor": 5
}
